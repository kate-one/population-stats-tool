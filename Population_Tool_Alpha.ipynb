{
 "cells": [
  {
   "cell_type": "markdown",
   "metadata": {},
   "source": [
    "# Population Tool: Alpha"
   ]
  },
  {
   "cell_type": "markdown",
   "metadata": {},
   "source": [
    "## First Step: Define functions we need"
   ]
  },
  {
   "cell_type": "markdown",
   "metadata": {},
   "source": [
    "Import necessary packages and declare constant variables"
   ]
  },
  {
   "cell_type": "code",
   "execution_count": null,
   "metadata": {
    "collapsed": false
   },
   "outputs": [],
   "source": [
    "import pandas as pd\n",
    "import matplotlib.pyplot as plt\n",
    "import matplotlib\n",
    "matplotlib.style.use('ggplot')\n",
    "\n",
    "POP_DATA_PATH = 'https://esa.un.org/unpd/wpp/DVD/Files/1_Indicators%20(Standard)/EXCEL_FILES/1_Population/WPP2017_POP_F01_1_TOTAL_POPULATION_BOTH_SEXES.xlsx'\n",
    "POP_RELATEABLE_PATH = ''\n",
    "POP_AGE_DATA_PATH = 'https://esa.un.org/unpd/wpp/DVD/Files/1_Indicators%20(Standard)/EXCEL_FILES/1_Population/WPP2017_POP_F07_1_POPULATION_BY_AGE_BOTH_SEXES.xlsx'"
   ]
  },
  {
   "cell_type": "code",
   "execution_count": null,
   "metadata": {
    "collapsed": true
   },
   "outputs": [],
   "source": [
    "%matplotlib inline"
   ]
  },
  {
   "cell_type": "markdown",
   "metadata": {},
   "source": [
    "Make a function that pulls general population data from the UN site and re-shapes it for our use"
   ]
  },
  {
   "cell_type": "code",
   "execution_count": null,
   "metadata": {
    "collapsed": true
   },
   "outputs": [],
   "source": [
    "def ReadPopulationData(path, skiprows = 16):\n",
    "    medium_variant = pd.read_excel(path, sheetname=1, skiprows=skiprows)\n",
    "    \n",
    "    medium_variant_long = pd.melt(medium_variant,\n",
    "                              id_vars=['Index','Variant','Region, subregion, country or area *','Notes','Country code'],\n",
    "                              value_name = 'Population',\n",
    "                              var_name = 'Year')\n",
    "    \n",
    "    return medium_variant_long"
   ]
  },
  {
   "cell_type": "markdown",
   "metadata": {},
   "source": [
    "Write another function that pulls the age-disaggregated data from the UN site"
   ]
  },
  {
   "cell_type": "code",
   "execution_count": null,
   "metadata": {
    "collapsed": true
   },
   "outputs": [],
   "source": [
    "def ReadPopulationAgeData(path, skiprows = 16):\n",
    "    age_data = pd.read_excel(path, sheetname=1, skiprows=skiprows)\n",
    "    \n",
    "    age_data_long = pd.melt(age_data,\n",
    "                              id_vars=['Index','Variant','Region, subregion, country or area *','Notes','Country code','Reference date (as of 1 July)'],\n",
    "                              value_name = 'Population',\n",
    "                              var_name = 'Age Cohort')\n",
    "    \n",
    "    return age_data_long"
   ]
  },
  {
   "cell_type": "markdown",
   "metadata": {},
   "source": [
    "Make a function that asks user to input a valid country name contained in the data set"
   ]
  },
  {
   "cell_type": "code",
   "execution_count": null,
   "metadata": {
    "collapsed": true
   },
   "outputs": [],
   "source": [
    "def GetValidCountry(dataset):\n",
    "    valid_country = False\n",
    "    while valid_country == False:\n",
    "        country = input('Enter a country name:')\n",
    "        if country == 'quit':\n",
    "            quit()\n",
    "        elif country in dataset['Region, subregion, country or area *'].unique():\n",
    "            valid_country = True\n",
    "            print('Thanks. {} is in the dataset.'.format(country))\n",
    "        else:\n",
    "            print('Sorry, {} is not in dataset. Please try again, e.g. Nigeria:'.format(country))\n",
    "            \n",
    "    return country"
   ]
  },
  {
   "cell_type": "markdown",
   "metadata": {},
   "source": [
    "Make a function that asks user to input a valid year contained in the data set"
   ]
  },
  {
   "cell_type": "code",
   "execution_count": null,
   "metadata": {
    "collapsed": true
   },
   "outputs": [],
   "source": [
    "def GetValidYear(dataset, check_field = 'Year'):\n",
    "    valid_year = False\n",
    "    while valid_year == False:\n",
    "        year = int(input('Enter a projection year:'))\n",
    "        if year == 'quit':\n",
    "            quit()\n",
    "        elif year in dataset[check_field].unique():\n",
    "            valid_year = True\n",
    "            print('Thanks. {} is in the dataset.'.format(year))\n",
    "        else:\n",
    "            print('Sorry, {} is not in dataset. Please try again:'.format(year))\n",
    "            \n",
    "    return year"
   ]
  },
  {
   "cell_type": "markdown",
   "metadata": {},
   "source": [
    "Another function that asks user to input a valid age cohort range"
   ]
  },
  {
   "cell_type": "code",
   "execution_count": null,
   "metadata": {
    "collapsed": true
   },
   "outputs": [],
   "source": [
    "def GetValidAgeCohort(dataset, check_field = 'Age Cohort'):\n",
    "    valid_cohort = False\n",
    "    while valid_cohort == False:\n",
    "        cohort = str(input('Enter an age cohort:'))\n",
    "        if cohort == 'quit':\n",
    "            quit()\n",
    "        elif cohort in dataset[check_field].unique():\n",
    "            valid_cohort = True\n",
    "            print('Thanks. {} is in the dataset.'.format(cohort))\n",
    "        else:\n",
    "            print('Sorry, {} is not in dataset. Please try again. Valid values:'.format(cohort))\n",
    "            print(test[check_field].unique())\n",
    "            \n",
    "    return cohort"
   ]
  },
  {
   "cell_type": "markdown",
   "metadata": {},
   "source": [
    "Write a function that runs the main menu prompts and asks the user to select an option"
   ]
  },
  {
   "cell_type": "code",
   "execution_count": null,
   "metadata": {
    "collapsed": false
   },
   "outputs": [],
   "source": [
    "def MainMenu():\n",
    "    print(\"\")\n",
    "    print(\"*********************\")\n",
    "    print(\"Welcome to David & Kate's (as yet) Front-end-less Python Population Tool. Please select an option from the list:\")\n",
    "    print(\"1) Get a population projection for a given country and year\")\n",
    "    print(\"2) Find a comparable population for a given population projection\")\n",
    "    print(\"3) Find a population projection for a given country, year and age cohort\")\n",
    "    \n",
    "    valid_answer = False\n",
    "    while valid_answer == False:\n",
    "        selection = str(input('Input a number (1-3):'))\n",
    "        if selection in ['1','2','3','quit']:\n",
    "            valid_answer = True\n",
    "        else:\n",
    "            print(\"Sorry, that is not a valid selection. Please enter numbers 1-3 or type 'quit':\")\n",
    "            \n",
    "    return selection"
   ]
  },
  {
   "cell_type": "markdown",
   "metadata": {},
   "source": [
    "A small function to ask if the user would like to keep investigating or quit"
   ]
  },
  {
   "cell_type": "code",
   "execution_count": null,
   "metadata": {
    "collapsed": true
   },
   "outputs": [],
   "source": [
    "def AnotherQuery():\n",
    "    valid_answer = False\n",
    "    while valid_answer == False:\n",
    "        response = input('Would you like to make another query? (Y/N)')\n",
    "        if response.lower() == 'y':\n",
    "            valid_answer = True\n",
    "            keep_playing = True\n",
    "        elif response.lower() == 'n':\n",
    "            print('Thanks for using this tool. Quitting....')\n",
    "            keep_playing = False\n",
    "            break\n",
    "        else:\n",
    "            print('Sorry, invalid response. Please type Y or N.')\n",
    "            \n",
    "    return keep_playing"
   ]
  },
  {
   "cell_type": "markdown",
   "metadata": {},
   "source": [
    "A function for Task 1: input a country and year and return the relevant population projection"
   ]
  },
  {
   "cell_type": "code",
   "execution_count": null,
   "metadata": {
    "collapsed": false
   },
   "outputs": [],
   "source": [
    "def TaskOne(dataset):\n",
    "    country = GetValidCountry(dataset)\n",
    "    year = GetValidYear(dataset)\n",
    "    \n",
    "    population = dataset.loc[(dataset['Region, subregion, country or area *'] == country) &\n",
    "                   (dataset['Year'] == year),'Population'].values[0]\n",
    "\n",
    "    print('The population for {} in the year {} is projected to be {} thousand.'.format(country, year, population))\n",
    "    \n",
    "    print('A time series plot of this population over time:')\n",
    "    \n",
    "    subset = dataset[(dataset['Region, subregion, country or area *'] == country)]\n",
    "    \n",
    "    subset.plot(x='Year', y='Population')\n",
    "    plt.show()"
   ]
  },
  {
   "cell_type": "markdown",
   "metadata": {},
   "source": [
    "A function for Task 3: Find a population projection for a given country, year and age cohort"
   ]
  },
  {
   "cell_type": "code",
   "execution_count": null,
   "metadata": {
    "collapsed": true
   },
   "outputs": [],
   "source": [
    "def TaskThree(dataset):\n",
    "    country = GetValidCountry(dataset)\n",
    "    year = GetValidYear(dataset, check_field = 'Reference date (as of 1 July)')\n",
    "    age = GetValidAgeCohort(dataset)\n",
    "    \n",
    "    population = dataset.loc[(dataset['Region, subregion, country or area *'] == country) &\n",
    "                   (dataset['Reference date (as of 1 July)'] == year) &\n",
    "                   (dataset['Age Cohort'] == age),'Population'].values[0]\n",
    "\n",
    "    print('The population aged {} for {} in the year {} is projected to be {} thousand.'.format(age, country, year, population))\n",
    "    print('A time series plot of this age cohort over time:')\n",
    "    \n",
    "    subset = dataset[(dataset['Region, subregion, country or area *'] == country) &\n",
    "                   (dataset['Age Cohort'] == age)]\n",
    "    \n",
    "    subset.plot(x='Reference date (as of 1 July)', y='Population')\n",
    "    plt.show()"
   ]
  },
  {
   "cell_type": "markdown",
   "metadata": {},
   "source": [
    "Write the main function that calls all the other functions when needed"
   ]
  },
  {
   "cell_type": "code",
   "execution_count": null,
   "metadata": {
    "collapsed": false
   },
   "outputs": [],
   "source": [
    "def run():\n",
    "    keep_using = True\n",
    "    \n",
    "    # Create a blank variables to store each population data sets when needed\n",
    "    pop_data = None\n",
    "    pop_relateable = None\n",
    "    pop_age_data = None\n",
    "    \n",
    "    # Start a loop that will keep going until the user decides to quit\n",
    "    while keep_using == True:\n",
    "        selection = MainMenu() # Run main menu function to retrieve a valid menu option\n",
    "        \n",
    "        # Series of if statements to do different actions based on menu option\n",
    "        if selection == '1':\n",
    "            print(\"Thanks. You selected option 1.\")\n",
    "            if pop_data is None: # Check if the population data is already downloaded and if not, download it\n",
    "                print(\"Downloading the latest data from the UN....\")\n",
    "                pop_data = ReadPopulationData(POP_DATA_PATH)\n",
    "                pop_data['Year'] = pop_data['Year'].astype('int64')\n",
    "            TaskOne(pop_data) # Run task 1 function\n",
    "            \n",
    "        elif selection == '2':\n",
    "            print(\"Thanks. You selected option 2. Sorry, this is still in development.\")\n",
    "            \n",
    "        elif selection == '3':\n",
    "            print(\"Thanks. You selected option 3.\")\n",
    "            if pop_age_data is None: # Check if the population data is already downloaded and if not, download it\n",
    "                print(\"Downloading the latest data from the UN....\")\n",
    "                pop_age_data = ReadPopulationAgeData(POP_AGE_DATA_PATH)\n",
    "            TaskThree(pop_age_data) # Run Task 3 function\n",
    "            \n",
    "        elif selection == \"quit\": # Add a secret 'quit' option in case the programme malfunctions in testing\n",
    "            print(\"Quitting...\")\n",
    "            break\n",
    "            \n",
    "        else: # Hopefully no one should get to this point, but just in case print an error message and stop the loop\n",
    "            print(\"Error\")\n",
    "            break\n",
    "        \n",
    "        # Before re-running the loop, run the AnotherQuery function to see if the user would like to continue\n",
    "        keep_using = AnotherQuery()\n",
    "        \n",
    "    return"
   ]
  },
  {
   "cell_type": "markdown",
   "metadata": {},
   "source": [
    "## Run the programme!"
   ]
  },
  {
   "cell_type": "code",
   "execution_count": null,
   "metadata": {
    "collapsed": false
   },
   "outputs": [],
   "source": [
    "run()"
   ]
  }
 ],
 "metadata": {
  "kernelspec": {
   "display_name": "Python 3",
   "language": "python",
   "name": "python3"
  },
  "language_info": {
   "codemirror_mode": {
    "name": "ipython",
    "version": 3
   },
   "file_extension": ".py",
   "mimetype": "text/x-python",
   "name": "python",
   "nbconvert_exporter": "python",
   "pygments_lexer": "ipython3",
   "version": "3.6.0"
  }
 },
 "nbformat": 4,
 "nbformat_minor": 2
}
